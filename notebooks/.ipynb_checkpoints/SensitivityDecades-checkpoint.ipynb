{
 "cells": [
  {
   "cell_type": "markdown",
   "metadata": {},
   "source": [
    "# estimate $\\lambda$ for different start/end periods\n",
    "\n",
    "## this is figure 8 "
   ]
  },
  {
   "cell_type": "code",
   "execution_count": 1,
   "metadata": {},
   "outputs": [],
   "source": [
    "from netCDF4 import Dataset\n",
    "import glob, os, numpy as np\n",
    "\n",
    "from matplotlib.pyplot import *\n",
    "import matplotlib.pyplot as plt\n",
    "import xarray as xr\n",
    "import pandas as pd\n",
    "from xradd import *"
   ]
  },
  {
   "cell_type": "code",
   "execution_count": 2,
   "metadata": {},
   "outputs": [],
   "source": [
    "import ols"
   ]
  },
  {
   "cell_type": "code",
   "execution_count": 3,
   "metadata": {},
   "outputs": [],
   "source": [
    "## make plots pretty\n",
    "def colorplot(ax):\n",
    "    \n",
    "    almost_black = '#262626' # tweek from Thorsten\n",
    "    \n",
    "    for spx in ['top','right']:\n",
    "            ax.spines[spx].set_visible(False)\n",
    "\n",
    "    # Only show ticks on the left and bottom spines\n",
    "    ax.yaxis.set_ticks_position('left')\n",
    "    ax.xaxis.set_ticks_position('bottom')\n",
    "        \n",
    "    for spx in ['bottom','left']:\n",
    "        ax.spines[spx].set_linewidth(0.5)\n",
    "        ax.spines[spx].set_color(almost_black)\n",
    "    \n",
    "    for ticks in ax.xaxis.get_ticklines() + ax.yaxis.get_ticklines():\n",
    "        ticks.set_color(almost_black)"
   ]
  },
  {
   "cell_type": "code",
   "execution_count": 4,
   "metadata": {},
   "outputs": [],
   "source": [
    "## Read in global average model fields\n",
    "modout=xr.open_dataset('../data/historicalEnsemble.nc')\n",
    "\n",
    "modout['time']=pd.date_range('18500101',freq='M',periods=len(modout.time))\n",
    "modout=annual(modout)\n",
    "modout=modout.assign(total=modout.trad0+modout.srad0)\n",
    "modout['time']=range(1850,2006)\n",
    "modout=modout.squeeze()"
   ]
  },
  {
   "cell_type": "code",
   "execution_count": 5,
   "metadata": {},
   "outputs": [],
   "source": [
    "forcing=xr.open_dataset('../data/forcing_ens_components_gavg.nc')\n",
    "forcing['time']=range(1850,2009)"
   ]
  },
  {
   "cell_type": "code",
   "execution_count": 6,
   "metadata": {},
   "outputs": [],
   "source": [
    "flux=(modout.trad0+modout.srad0).squeeze()\n",
    "flux=flux.drop(['lat','lon'])\n",
    "flux['sfc']=range(1,101)\n",
    "flux=flux.rename({'sfc':'ens'})"
   ]
  },
  {
   "cell_type": "markdown",
   "metadata": {},
   "source": [
    "in this notebook, we evalulate $\\lambda_{hist}$ over a range of years.  ```end1``` and ```start1``` define the beginning and end periods used."
   ]
  },
  {
   "cell_type": "code",
   "execution_count": 7,
   "metadata": {},
   "outputs": [],
   "source": [
    "end1=range(1960,1998,2) # beginning of base period\n",
    "start1=range(1850,1902,2) # beginning of end period\n",
    "length=9 # length of start period (minus one; 9 = 10 year period); end period is always 10 years"
   ]
  },
  {
   "cell_type": "markdown",
   "metadata": {},
   "source": [
    "## median of $\\Delta(flux)$ divided by median of $\\Delta T$ for various start and end periods"
   ]
  },
  {
   "cell_type": "code",
   "execution_count": 8,
   "metadata": {},
   "outputs": [
    {
     "data": {
      "text/html": [
       "<pre>&lt;xarray.Dataset&gt;\n",
       "Dimensions:  (end: 19, start: 26)\n",
       "Coordinates:\n",
       "  * start    (start) int64 1850 1852 1854 1856 1858 ... 1892 1894 1896 1898 1900\n",
       "  * end      (end) int64 1960 1962 1964 1966 1968 ... 1988 1990 1992 1994 1996\n",
       "Data variables:\n",
       "    ts       (start, end) float32 0.28437805 0.27311707 ... 0.76968384 0.8393402\n",
       "    t500     (start, end) float32 0.37236023 0.36265564 ... 1.0620422 1.1584625\n",
       "    R        (start, end) float32 0.16248244 0.21903153 ... 0.79996943\n",
       "    F        (start, end) float32 0.56950176 0.5598153 ... 1.8393347 1.9419892</pre>"
      ],
      "text/plain": [
       "<xarray.Dataset>\n",
       "Dimensions:  (end: 19, start: 26)\n",
       "Coordinates:\n",
       "  * start    (start) int64 1850 1852 1854 1856 1858 ... 1892 1894 1896 1898 1900\n",
       "  * end      (end) int64 1960 1962 1964 1966 1968 ... 1988 1990 1992 1994 1996\n",
       "Data variables:\n",
       "    ts       (start, end) float32 0.28437805 0.27311707 ... 0.76968384 0.8393402\n",
       "    t500     (start, end) float32 0.37236023 0.36265564 ... 1.0620422 1.1584625\n",
       "    R        (start, end) float32 0.16248244 0.21903153 ... 0.79996943\n",
       "    F        (start, end) float32 0.56950176 0.5598153 ... 1.8393347 1.9419892"
      ]
     },
     "execution_count": 8,
     "metadata": {},
     "output_type": "execute_result"
    }
   ],
   "source": [
    "## average data array over prescribed period\n",
    "avg_period=lambda x,t,lenx=9: x.sel(time=slice(t,t+lenx)).mean(dim='time')\n",
    "\n",
    "out_var=[]\n",
    "namex=iter('ts,t500,R,F'.split(','))\n",
    "for var in [modout.temp2,modout.t_trop,flux,forcing.f]:\n",
    "    out2=[]\n",
    "    for start in start1:\n",
    "        out1=[]\n",
    "        for end in end1:\n",
    "            dts=avg_period(var,end)-avg_period(var,start,length)\n",
    "            out1.append(np.median(dts))\n",
    "        out2.append(out1)\n",
    "    out_var.append(xr.DataArray(out2,dims='start,end'.split(','),coords={'start':start1,'end':end1},\\\n",
    "                  name=next(namex)))\n",
    "\n",
    "mod_diff=xr.merge(out_var)\n",
    "mod_diff"
   ]
  },
  {
   "cell_type": "code",
   "execution_count": 9,
   "metadata": {},
   "outputs": [],
   "source": [
    "lam_hist=(mod_diff.R-mod_diff.F)/mod_diff.ts"
   ]
  },
  {
   "cell_type": "code",
   "execution_count": 10,
   "metadata": {},
   "outputs": [
    {
     "data": {
      "text/html": [
       "<pre>&lt;xarray.DataArray ()&gt;\n",
       "array(-1.4147903, dtype=float32)\n",
       "Coordinates:\n",
       "    start    int64 1850\n",
       "    end      int64 1996</pre>"
      ],
      "text/plain": [
       "<xarray.DataArray ()>\n",
       "array(-1.4147903, dtype=float32)\n",
       "Coordinates:\n",
       "    start    int64 1850\n",
       "    end      int64 1996"
      ]
     },
     "execution_count": 10,
     "metadata": {},
     "output_type": "execute_result"
    }
   ],
   "source": [
    "# make sure this gives\n",
    "lam_hist.sel(start=1850,end=1996,method='nearest')"
   ]
  },
  {
   "cell_type": "code",
   "execution_count": 11,
   "metadata": {},
   "outputs": [
    {
     "data": {
      "image/png": "[encoded data removed]",
      "text/plain": [
       "<Figure size 504x360 with 1 Axes>"
      ]
     },
     "metadata": {
      "needs_background": "light"
     },
     "output_type": "display_data"
    }
   ],
   "source": [
    "fig=figure(figsize=(7,5))\n",
    "plt.subplots_adjust(bottom=0.25)\n",
    "\n",
    "opt1={'color':'k','ls':':'}\n",
    "(lam_hist.sel(start=1850)).plot(color='k',label='1850-1859')\n",
    "(lam_hist.sel(start=1860)).plot(color='k',ls='--',label='1860-1869')\n",
    "(lam_hist.sel(start=1870)).plot(color='0.65',label='1870-1879')\n",
    "(lam_hist.sel(start=1880)).plot(color='0.65',ls='--',label='1880-1889')\n",
    "# (lam_hist.sel(start=1870)).plot()\n",
    "# legend('1850,1860,1862,1864,1866,1868,1870'.split(','))\n",
    "legend(loc=1)\n",
    "title('')\n",
    "xlabel('end period',fontsize=14)\n",
    "# ylim(-0.5,0.5)\n",
    "ylim(-1.7,-0.7)\n",
    "xlim(1960,1996)\n",
    "axhline(-1.15,**opt1)\n",
    "# axvline(1964,**opt1)\n",
    "# axvline(1983,**opt1)\n",
    "# axvline(1992,**opt1)\n",
    "x1=range(1960,2000,5)\n",
    "x2=['{}-{}'.format(ii,ii+9) for ii in x1]\n",
    "xticks(x1,x2,rotation=50);\n",
    "ylabel('$\\lambda_{hist-average}$',fontsize=16)\n",
    "colorplot(gca())\n",
    "\n",
    "savefig('../figures/fig8.pdf')"
   ]
  }
 ],
 "metadata": {
  "kernelspec": {
   "display_name": "Python 3",
   "language": "python",
   "name": "python3"
  },
  "language_info": {
   "codemirror_mode": {
    "name": "ipython",
    "version": 3
   },
   "file_extension": ".py",
   "mimetype": "text/x-python",
   "name": "python",
   "nbconvert_exporter": "python",
   "pygments_lexer": "ipython3",
   "version": "3.7.4"
  }
 },
 "nbformat": 4,
 "nbformat_minor": 2
}
